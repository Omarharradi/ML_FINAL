{
 "cells": [
  {
   "cell_type": "code",
   "execution_count": 1,
   "metadata": {},
   "outputs": [],
   "source": [
    "\n",
    "# utils.py\n",
    "\n",
    "import numpy as np\n",
    "import plotly.graph_objects as go\n",
    "from plotly.subplots import make_subplots\n",
    "from langchain_core.prompts import PromptTemplate\n",
    "from langchain_core.output_parsers import StrOutputParser\n",
    "import streamlit as st  \n",
    "import plotly.express as px\n",
    "\n",
    "def get_filtered_df(df, selected_dashboards, selected_positions):\n",
    "    filtered = df.copy()\n",
    "    if selected_dashboards:\n",
    "        filtered = filtered[filtered[\"# Dashboard\"].isin(selected_dashboards)]\n",
    "    if selected_positions:\n",
    "        filtered = filtered[filtered[\"Position\"].isin(selected_positions)]\n",
    "    return filtered\n",
    "\n",
    "\n",
    "def build_donut_chart(lis_data):\n",
    "    ''' \n",
    "    LIS Stands for Leadership Index Score which is a weighted score of critical skills necessary skills and beneficial skills to have a standardised metric to compare all individuals\n",
    "    EQ assesses Emotional Intelligence which is one of the most important skills that all leaders are assessed in.\n",
    "    '''\n",
    "    mean_lis = np.mean(lis_data)\n",
    "    std_lis = np.std(lis_data)\n",
    "    std_low = mean_lis - 1.5 * std_lis\n",
    "    std_high = mean_lis + 1.5 * std_lis\n",
    "\n",
    "    leaders_meeting = np.sum((lis_data >= std_low) & (lis_data <= std_high))\n",
    "    leaders_exceeding = np.sum(lis_data > std_high)\n",
    "    leaders_requiring_training = np.sum(lis_data < std_low)\n",
    "    \n",
    "    leaders_summary = {\n",
    "    \"meeting_standard\": np.sum((lis_data >= std_low) & (lis_data <= std_high)),\n",
    "    \"exceeding_standard\": np.sum(lis_data > std_high),\n",
    "    \"requiring_training\": np.sum(lis_data < std_low)\n",
    "    }\n",
    "\n",
    "    labels = ['Meeting Minimum Competency', 'Exceeding Expectations', 'Requiring Training']\n",
    "    values = [leaders_meeting, leaders_exceeding, leaders_requiring_training]\n",
    "    colors = ['#5c9acc', '#f4a300', '#e63946']\n",
    "\n",
    "    fig = go.Figure(data=[go.Pie(\n",
    "        labels=labels,\n",
    "        values=values,\n",
    "        hole=0.4,\n",
    "        marker=dict(colors=colors),\n",
    "        hovertemplate=\"%{label}: %{value} leaders (%{percent})\",\n",
    "        textinfo='percent+label'\n",
    "    )])\n",
    "    fig.update_layout(\n",
    "        title=\"Overall Leadership Competency Levels\",\n",
    "        margin=dict(t=50, b=50, l=50, r=50),\n",
    "        width=700,\n",
    "        height=500\n",
    "    )\n",
    "\n",
    "    return fig, leaders_summary\n",
    "\n",
    "\n",
    "def build_histogram(lis_data):\n",
    "    ''' \n",
    "    LIS Stands for Leadership Index Score which is a weighted score of critical skills necessary skills and beneficial skills to have a standardised metric to compare all individuals\n",
    "    EQ assesses Emotional Intelligence which is one of the most important skills that all leaders are assessed in.\n",
    "    '''\n",
    "    mean_lis = np.mean(lis_data)\n",
    "    std_lis = np.std(lis_data)\n",
    "    std_low = mean_lis - 1.5 * std_lis\n",
    "    std_high = mean_lis + 1.5 * std_lis\n",
    "\n",
    "    below_std = np.sum(lis_data < std_low)\n",
    "    above_std = np.sum(lis_data > std_high)\n",
    "\n",
    "    # Summary dictionary\n",
    "    summary_stats = {\n",
    "        \"mean\": mean_lis,\n",
    "        \"std_dev\": std_lis,\n",
    "        \"1.5_std_below\": std_low,\n",
    "        \"1.5_std_above\": std_high,\n",
    "        \"min_value\": np.min(lis_data),\n",
    "        \"max_value\": np.max(lis_data),\n",
    "        \"count\": len(lis_data),\n",
    "        \"below_1.5_std\": below_std,\n",
    "        \"above_1.5_std\": above_std\n",
    "    }\n",
    "    \n",
    "\n",
    "    fig = go.Figure()\n",
    "    fig.add_trace(go.Histogram(\n",
    "        x=lis_data,\n",
    "        nbinsx=20,\n",
    "        marker_color='darkblue',\n",
    "        opacity=0.75,\n",
    "        name='LIS'\n",
    "    ))\n",
    "    fig.add_vline(x=mean_lis, line=dict(color='gold', dash='dash'),\n",
    "                  annotation_text=f'Mean: {mean_lis:.2f}', annotation_position=\"top right\")\n",
    "    fig.add_vline(x=std_low, line=dict(color='green', dash='dash'),\n",
    "                  annotation_text=f'1.5-std below: {std_low:.2f}', annotation_position=\"top left\")\n",
    "    fig.add_vline(x=std_high, line=dict(color='green', dash='dash'),\n",
    "                  annotation_text=f'1.5-std above: {std_high:.2f}', annotation_position=\"top right\")\n",
    "    fig.update_layout(\n",
    "        title=\"Leadership Index Score (LIS) Distribution\",\n",
    "        xaxis_title=\"Leadership Index Score (LIS) Score\",\n",
    "        yaxis_title=\"Frequency\",\n",
    "        template=\"plotly_white\",\n",
    "        width=700,\n",
    "        height=400,\n",
    "        margin=dict(t=50, b=50, l=50, r=50)\n",
    "    )\n",
    "    return fig, summary_stats\n",
    "\n",
    "import numpy as np\n",
    "import pandas as pd\n",
    "import plotly.graph_objects as go\n",
    "from plotly.subplots import make_subplots\n",
    "\n",
    "def radar_chart_plotly(dashboard, df, skills_mapping):\n",
    "    ''' \n",
    "    LIS Stands for Leadership Index Score which is a weighted score of critical skills necessary skills and beneficial skills to have a standardized metric to compare all individuals.\n",
    "    EQ assesses Emotional Intelligence which is one of the most important skills that all leaders are assessed in.\n",
    "    '''\n",
    "    mapping = skills_mapping.get(dashboard, {})\n",
    "    categories = ['Critical Skills', 'Necessary', 'Beneficial Skills']\n",
    "\n",
    "    avg_scores = {}\n",
    "    summary_stats = {\"dashboard\": dashboard, \"skill_scores\": {}}\n",
    "\n",
    "    fig = make_subplots(\n",
    "        rows=1, cols=len(categories),\n",
    "        specs=[[{'type': 'polar'} for _ in categories]],\n",
    "        subplot_titles=[f\"{dashboard} - {cat}\" for cat in categories]\n",
    "    )\n",
    "\n",
    "    all_scores = []\n",
    "\n",
    "    for i, cat in enumerate(categories):\n",
    "        skills = mapping.get(cat, [])\n",
    "        if not skills:\n",
    "            continue\n",
    "\n",
    "        skill_avg_scores = {\n",
    "            skill: df.loc[df['# Dashboard'] == dashboard, skill].mean()\n",
    "            for skill in skills if skill in df.columns\n",
    "        }\n",
    "        avg_scores[cat] = list(skill_avg_scores.values())\n",
    "\n",
    "        # Store per-skill averages in the summary\n",
    "        summary_stats[\"skill_scores\"][cat] = skill_avg_scores\n",
    "\n",
    "        scores = np.array(list(skill_avg_scores.values()))\n",
    "        all_scores.extend(scores)\n",
    "\n",
    "        # Close the loop for radar visualization\n",
    "        scores_closed = np.concatenate((scores, [scores[0]]))\n",
    "        skills_closed = list(skill_avg_scores.keys()) + [list(skill_avg_scores.keys())[0]]\n",
    "\n",
    "        fig.add_trace(\n",
    "            go.Scatterpolar(\n",
    "                r=scores_closed,\n",
    "                theta=skills_closed,\n",
    "                fill='toself',\n",
    "                mode='markers+lines',\n",
    "                name=cat\n",
    "            ),\n",
    "            row=1, col=i+1\n",
    "        )\n",
    "\n",
    "        fig.update_polars(\n",
    "            dict(\n",
    "                radialaxis=dict(visible=True, range=[0, max(scores_closed) * 1.1]),\n",
    "                angularaxis=dict(tickfont=dict(size=10))\n",
    "            ),\n",
    "            row=1, col=i+1\n",
    "        )\n",
    "\n",
    "\n",
    "    fig.update_layout(\n",
    "        title_text=f\"Radar Chart of Average Skill Scores for Dashboard {dashboard}\",\n",
    "        showlegend=False,\n",
    "        width=350 * len(categories),\n",
    "        height=500,\n",
    "        margin=dict(t=100, b=50, l=50, r=50)\n",
    "    )\n",
    "\n",
    "    return fig, summary_stats\n",
    "\n",
    "\n",
    "\n",
    "\n",
    "def build_polar_chart(df):\n",
    "    ''' \n",
    "    LIS Stands for Leadership Index Score which is a weighted score of critical skills necessary skills and beneficial skills to have a standardised metric to compare all individuals\n",
    "    EQ assesses Emotional Intelligence which is one of the most important skills that all leaders are assessed in.\n",
    "    '''\n",
    "    avg_overall = df.groupby(\"Dashboard Number\")[\"LIS\"].mean().reset_index()\n",
    "    avg_overall_dict=avg_overall.to_dict(orient='records')\n",
    "\n",
    "    fig = px.bar_polar(\n",
    "        avg_overall,\n",
    "        r=\"LIS\",\n",
    "        theta=\"Dashboard Number\",\n",
    "        color=\"Dashboard Number\",\n",
    "        template=\"plotly_white\",\n",
    "        title=\"Average Overall Leadership Index Score (LIS) by Dashboard (Polar Bar Chart)\",\n",
    "        color_discrete_sequence=px.colors.qualitative.Bold\n",
    "    )\n",
    "\n",
    "    fig.update_layout(\n",
    "        margin=dict(l=50, r=50, t=100, b=50),\n",
    "        polar=dict(\n",
    "            radialaxis=dict(visible=True, range=[0, avg_overall[\"LIS\"].max() * 1.1])\n",
    "        )\n",
    "    )\n",
    "    return fig, avg_overall_dict\n",
    "\n",
    "def build_box_plot(df):\n",
    "    ''' \n",
    "    LIS Stands for Leadership Index Score which is a weighted score of critical skills necessary skills and beneficial skills to have a standardised metric to compare all individuals\n",
    "    EQ assesses Emotional Intelligence which is one of the most important skills that all leaders are assessed in.\n",
    "    '''\n",
    "\n",
    "    summary_stats = df.groupby(\"Dashboard Number\")[\"Overall Results\"].describe().reset_index()\n",
    "\n",
    "    fig = px.box(\n",
    "        df,\n",
    "        x=\"Dashboard Number\",\n",
    "        y=\"Overall Results\",\n",
    "        title=\"Box Plot of EQ by Dashboard\",\n",
    "        template=\"plotly_white\",\n",
    "        color=\"Dashboard Number\",\n",
    "        color_discrete_sequence=px.colors.qualitative.Pastel\n",
    "    )\n",
    "    return fig, summary_stats\n",
    "\n",
    "def get_insights_chart(lis_data, source_code, llm):\n",
    "    insights_template = PromptTemplate(\n",
    "        input_variables=[\"Dataframe\", \"PlotCode\"],\n",
    "        template=\"\"\"You are a data analyst helping decision-makers understand data trends.\n",
    "\n",
    "    Step 1: Analyze the PlotCode and DataFrame to understand what the chart is visualizing. Do NOT include or describe the code itself.\n",
    "\n",
    "    Step 2: Return your output in **Markdown** using the following structure:\n",
    "\n",
    "    **Chart Description**\n",
    "    \\n\n",
    "    A brief paragraph that explains what the chart is visualizing and why it's relevant.\n",
    "\n",
    "\n",
    "    Important Guidelines:\n",
    "    - If a KPI, variable, or concept is not clearly defined in the DataFrame or PlotCode, do NOT guess its meaning. It may represent proprietary or internal data.\n",
    "    - Never fabricate interpretations — only base your insights on what is explicitly observable from the data and plot logic.\n",
    "    - Be clear, thoughtful, and avoid assumptions.\n",
    "\n",
    "    Only return the final Markdown-formatted insight (no explanations, no code).\n",
    "\n",
    "    DataFrame:\n",
    "    {Dataframe}\n",
    "\n",
    "    PlotCode:\n",
    "    {PlotCode}\n",
    "    \"\"\"\n",
    "    )\n",
    "\n",
    "    #llm = ChatGoogleGenerativeAI(model=\"gemini-2.0-flash\")\n",
    "    chain = insights_template | llm | StrOutputParser()\n",
    "    response = chain.invoke({\"Dataframe\": lis_data, \"PlotCode\": source_code})\n",
    "    return response\n",
    "\n",
    "\n",
    "\n",
    "# utils.py\n",
    "import json\n",
    "import pandas as pd\n",
    "from langchain_core.documents import Document\n",
    "from langchain_community.vectorstores import Chroma\n",
    "from langchain_google_genai import GoogleGenerativeAIEmbeddings, ChatGoogleGenerativeAI\n",
    "from langchain.chains import RetrievalQA, LLMChain\n",
    "from langchain_experimental.agents import create_pandas_dataframe_agent\n",
    "from langchain.prompts import PromptTemplate\n",
    "from langchain.memory import ConversationBufferMemory\n",
    "\n",
    "def initialize_pipeline(json_path=\"result.json\"):\n",
    "    \"\"\"\n",
    "    Initializes the pipeline by:\n",
    "      - Loading the JSON data and converting it to a DataFrame.\n",
    "      - Creating Document objects for RAG.\n",
    "      - Setting up the LLM, embeddings, vector store, retriever, and chains.\n",
    "      - Creating a classifier chain and a unified ask() function.\n",
    "      \n",
    "    Returns:\n",
    "      ask (function): A function that accepts a query string and returns an answer.\n",
    "    \"\"\"\n",
    "    # -----------------------------\n",
    "    # Load & Prepare JSON Data\n",
    "    # -----------------------------\n",
    "    with open(json_path, \"r\") as f:\n",
    "        data = json.load(f)\n",
    "\n",
    "    records = []\n",
    "    docs = []\n",
    "\n",
    "    for id_, entry in data.items():\n",
    "        flat = {\"ID\": id_}\n",
    "        flat.update(entry)\n",
    "        records.append(flat)\n",
    "\n",
    "        # Create a text version for RAG documents\n",
    "        text = f\"ID: {id_}\\n\"\n",
    "        for k, v in entry.items():\n",
    "            if isinstance(v, list):\n",
    "                text += f\"{k}: {', '.join(map(str, v))}\\n\"\n",
    "            else:\n",
    "                text += f\"{k}: {v}\\n\"\n",
    "        docs.append(Document(page_content=text))\n",
    "\n",
    "    df = pd.DataFrame(records)\n",
    "\n",
    "    # -----------------------------\n",
    "    # LLM & Embeddings\n",
    "    # -----------------------------\n",
    "    llm = ChatGoogleGenerativeAI(model=\"gemini-1.5-pro-latest\")\n",
    "    embedding = GoogleGenerativeAIEmbeddings(model=\"models/embedding-001\")\n",
    "\n",
    "    # -----------------------------\n",
    "    # RAG Setup\n",
    "    # -----------------------------\n",
    "    memory = ConversationBufferMemory(memory_key=\"chat_history\", return_messages=True)\n",
    "    vectorstore = Chroma.from_documents(docs, embedding, collection_name=\"ldp_docs\")\n",
    "    retriever = vectorstore.as_retriever(search_kwargs={\"k\": 20, \"timeout\": 120})\n",
    "\n",
    "    # Custom prompt for the RAG chain\n",
    "    context_prompt = PromptTemplate.from_template(\"\"\"\n",
    "You are a data assistant helping analyze leadership assessment data.\n",
    "\n",
    "Use the provided context to answer the question below. The context includes information on individuals, dashboards, and their skills.\n",
    "\n",
    "Context:\n",
    "{context}\n",
    "\n",
    "Question:\n",
    "{question}\n",
    "\n",
    "Answer by combining insights across individuals. Focus on patterns, averages, and summaries. If no useful context is found, say \"Not enough information.\"\n",
    "\"\"\")\n",
    "    llm_chain = LLMChain(llm=llm, prompt=context_prompt)\n",
    "\n",
    "    # Using StuffDocumentsChain to combine documents into context\n",
    "    from langchain.chains.combine_documents.stuff import StuffDocumentsChain as CombineStuffDocumentsChain\n",
    "    stuff_chain = CombineStuffDocumentsChain(\n",
    "        llm_chain=llm_chain,\n",
    "        document_variable_name=\"context\"\n",
    "    )\n",
    "\n",
    "    rag_chain = RetrievalQA(\n",
    "        retriever=retriever,\n",
    "        combine_documents_chain=stuff_chain,\n",
    "        memory=memory\n",
    "    )\n",
    "\n",
    "    # -----------------------------\n",
    "    # Pandas Agent Setup\n",
    "    # -----------------------------\n",
    "    pandas_agent = create_pandas_dataframe_agent(\n",
    "        llm=llm,\n",
    "        df=df,\n",
    "        verbose=True,\n",
    "        allow_dangerous_code=True\n",
    "    )\n",
    "\n",
    "    # -----------------------------\n",
    "    # Classifier to Route Query\n",
    "    # -----------------------------\n",
    "    classifier_prompt = PromptTemplate.from_template(\"\"\"\n",
    "You are a smart classifier. Given a user question, decide if it should be handled using:\n",
    "\n",
    "- \"structured\" → if it's about rankings, filters, math, comparisons, scores\n",
    "- \"semantic\" → if it's about summaries, meaning, types of skills, descriptions\n",
    "\n",
    "Return ONLY the word \"structured\" or \"semantic\".\n",
    "\n",
    "Question: {query}\n",
    "\"\"\")\n",
    "    classifier_chain = LLMChain(llm=llm, prompt=classifier_prompt)\n",
    "\n",
    "    # -----------------------------\n",
    "    # Unified Ask Function\n",
    "    # -----------------------------\n",
    "    def ask(query: str) -> str:\n",
    "        route = classifier_chain.run({\"query\": query}).strip().lower()\n",
    "        print(f\"[Routing → {route}]\")\n",
    "        \n",
    "        if route == \"structured\":\n",
    "            return pandas_agent.run(query)\n",
    "        elif route == \"semantic\":\n",
    "            return rag_chain.run(query)\n",
    "        else:\n",
    "            return \"Sorry, I couldn't confidently classify your question.\"\n",
    "\n",
    "    return ask\n",
    "\n"
   ]
  },
  {
   "cell_type": "code",
   "execution_count": 6,
   "metadata": {},
   "outputs": [
    {
     "data": {
      "application/vnd.plotly.v1+json": {
       "config": {
        "plotlyServerURL": "https://plot.ly"
       },
       "data": [
        {
         "hole": 0.4,
         "hovertemplate": "%{label}: %{value} leaders (%{percent})",
         "labels": [
          "Meeting Minimum Competency",
          "Exceeding Expectations",
          "Requiring Training"
         ],
         "marker": {
          "colors": [
           "#5c9acc",
           "#f4a300",
           "#e63946"
          ]
         },
         "textinfo": "percent+label",
         "type": "pie",
         "values": [
          68,
          6,
          7
         ]
        }
       ],
       "layout": {
        "height": 500,
        "margin": {
         "b": 50,
         "l": 50,
         "r": 50,
         "t": 50
        },
        "template": {
         "data": {
          "candlestick": [
           {
            "decreasing": {
             "line": {
              "color": "#000033"
             }
            },
            "increasing": {
             "line": {
              "color": "#000032"
             }
            },
            "type": "candlestick"
           }
          ],
          "contour": [
           {
            "colorscale": [
             [
              0,
              "#000011"
             ],
             [
              0.1111111111111111,
              "#000012"
             ],
             [
              0.2222222222222222,
              "#000013"
             ],
             [
              0.3333333333333333,
              "#000014"
             ],
             [
              0.4444444444444444,
              "#000015"
             ],
             [
              0.5555555555555556,
              "#000016"
             ],
             [
              0.6666666666666666,
              "#000017"
             ],
             [
              0.7777777777777778,
              "#000018"
             ],
             [
              0.8888888888888888,
              "#000019"
             ],
             [
              1,
              "#000020"
             ]
            ],
            "type": "contour"
           }
          ],
          "contourcarpet": [
           {
            "colorscale": [
             [
              0,
              "#000011"
             ],
             [
              0.1111111111111111,
              "#000012"
             ],
             [
              0.2222222222222222,
              "#000013"
             ],
             [
              0.3333333333333333,
              "#000014"
             ],
             [
              0.4444444444444444,
              "#000015"
             ],
             [
              0.5555555555555556,
              "#000016"
             ],
             [
              0.6666666666666666,
              "#000017"
             ],
             [
              0.7777777777777778,
              "#000018"
             ],
             [
              0.8888888888888888,
              "#000019"
             ],
             [
              1,
              "#000020"
             ]
            ],
            "type": "contourcarpet"
           }
          ],
          "heatmap": [
           {
            "colorscale": [
             [
              0,
              "#000011"
             ],
             [
              0.1111111111111111,
              "#000012"
             ],
             [
              0.2222222222222222,
              "#000013"
             ],
             [
              0.3333333333333333,
              "#000014"
             ],
             [
              0.4444444444444444,
              "#000015"
             ],
             [
              0.5555555555555556,
              "#000016"
             ],
             [
              0.6666666666666666,
              "#000017"
             ],
             [
              0.7777777777777778,
              "#000018"
             ],
             [
              0.8888888888888888,
              "#000019"
             ],
             [
              1,
              "#000020"
             ]
            ],
            "type": "heatmap"
           }
          ],
          "histogram2d": [
           {
            "colorscale": [
             [
              0,
              "#000011"
             ],
             [
              0.1111111111111111,
              "#000012"
             ],
             [
              0.2222222222222222,
              "#000013"
             ],
             [
              0.3333333333333333,
              "#000014"
             ],
             [
              0.4444444444444444,
              "#000015"
             ],
             [
              0.5555555555555556,
              "#000016"
             ],
             [
              0.6666666666666666,
              "#000017"
             ],
             [
              0.7777777777777778,
              "#000018"
             ],
             [
              0.8888888888888888,
              "#000019"
             ],
             [
              1,
              "#000020"
             ]
            ],
            "type": "histogram2d"
           }
          ],
          "icicle": [
           {
            "textfont": {
             "color": "white"
            },
            "type": "icicle"
           }
          ],
          "sankey": [
           {
            "textfont": {
             "color": "#000036"
            },
            "type": "sankey"
           }
          ],
          "scatter": [
           {
            "marker": {
             "line": {
              "width": 0
             }
            },
            "type": "scatter"
           }
          ],
          "table": [
           {
            "cells": {
             "fill": {
              "color": "#000038"
             },
             "font": {
              "color": "#000037"
             },
             "line": {
              "color": "#000039"
             }
            },
            "header": {
             "fill": {
              "color": "#000040"
             },
             "font": {
              "color": "#000036"
             },
             "line": {
              "color": "#000039"
             }
            },
            "type": "table"
           }
          ],
          "waterfall": [
           {
            "connector": {
             "line": {
              "color": "#000036",
              "width": 2
             }
            },
            "decreasing": {
             "marker": {
              "color": "#000033"
             }
            },
            "increasing": {
             "marker": {
              "color": "#000032"
             }
            },
            "totals": {
             "marker": {
              "color": "#000034"
             }
            },
            "type": "waterfall"
           }
          ]
         },
         "layout": {
          "coloraxis": {
           "colorscale": [
            [
             0,
             "#000011"
            ],
            [
             0.1111111111111111,
             "#000012"
            ],
            [
             0.2222222222222222,
             "#000013"
            ],
            [
             0.3333333333333333,
             "#000014"
            ],
            [
             0.4444444444444444,
             "#000015"
            ],
            [
             0.5555555555555556,
             "#000016"
            ],
            [
             0.6666666666666666,
             "#000017"
            ],
            [
             0.7777777777777778,
             "#000018"
            ],
            [
             0.8888888888888888,
             "#000019"
            ],
            [
             1,
             "#000020"
            ]
           ]
          },
          "colorscale": {
           "diverging": [
            [
             0,
             "#000021"
            ],
            [
             0.1,
             "#000022"
            ],
            [
             0.2,
             "#000023"
            ],
            [
             0.3,
             "#000024"
            ],
            [
             0.4,
             "#000025"
            ],
            [
             0.5,
             "#000026"
            ],
            [
             0.6,
             "#000027"
            ],
            [
             0.7,
             "#000028"
            ],
            [
             0.8,
             "#000029"
            ],
            [
             0.9,
             "#000030"
            ],
            [
             1,
             "#000031"
            ]
           ],
           "sequential": [
            [
             0,
             "#000011"
            ],
            [
             0.1111111111111111,
             "#000012"
            ],
            [
             0.2222222222222222,
             "#000013"
            ],
            [
             0.3333333333333333,
             "#000014"
            ],
            [
             0.4444444444444444,
             "#000015"
            ],
            [
             0.5555555555555556,
             "#000016"
            ],
            [
             0.6666666666666666,
             "#000017"
            ],
            [
             0.7777777777777778,
             "#000018"
            ],
            [
             0.8888888888888888,
             "#000019"
            ],
            [
             1,
             "#000020"
            ]
           ],
           "sequentialminus": [
            [
             0,
             "#000011"
            ],
            [
             0.1111111111111111,
             "#000012"
            ],
            [
             0.2222222222222222,
             "#000013"
            ],
            [
             0.3333333333333333,
             "#000014"
            ],
            [
             0.4444444444444444,
             "#000015"
            ],
            [
             0.5555555555555556,
             "#000016"
            ],
            [
             0.6666666666666666,
             "#000017"
            ],
            [
             0.7777777777777778,
             "#000018"
            ],
            [
             0.8888888888888888,
             "#000019"
            ],
            [
             1,
             "#000020"
            ]
           ]
          },
          "colorway": [
           "#000001",
           "#000002",
           "#000003",
           "#000004",
           "#000005",
           "#000006",
           "#000007",
           "#000008",
           "#000009",
           "#000010"
          ]
         }
        },
        "title": {
         "text": "Overall Leadership Competency Levels"
        },
        "width": 700
       }
      }
     },
     "metadata": {},
     "output_type": "display_data"
    }
   ],
   "source": [
    "import inspect\n",
    "from langchain_google_genai import ChatGoogleGenerativeAI\n",
    "import os\n",
    "\n",
    "os.environ['GOOGLE_API_KEY'] = \"api\"\n",
    "llm = ChatGoogleGenerativeAI(model=\"gemini-1.5-flash\")\n",
    "\n",
    "df = pd.read_csv('LDP_summary_anonymized.csv')\n",
    "\n",
    "filtered = df.copy()\n",
    "lis_data = filtered['LIS']\n",
    "\n",
    "source_code = inspect.getsource(build_donut_chart)\n",
    "test=build_donut_chart(lis_data=lis_data)\n",
    "response = get_insights_chart(lis_data=a, source_code=source_code, llm=llm)   \n"
   ]
  },
  {
   "cell_type": "code",
   "execution_count": 7,
   "metadata": {},
   "outputs": [
    {
     "data": {
      "text/markdown": [
       "**Chart Description**\n",
       "\n",
       "The chart displays the distribution of leadership competency levels among a group of leaders.  It categorizes leaders into three groups: those meeting minimum competency standards, those exceeding expectations, and those requiring additional training. The data shows that the vast majority (68) meet the minimum standards, a smaller number (6) exceed expectations, and a small number (7) require training.  This visualization is relevant for assessing the overall effectiveness and development needs of the leadership team."
      ],
      "text/plain": [
       "<IPython.core.display.Markdown object>"
      ]
     },
     "execution_count": 7,
     "metadata": {},
     "output_type": "execute_result"
    }
   ],
   "source": [
    "from IPython.display import Markdown\n",
    "\n",
    "Markdown(response)"
   ]
  },
  {
   "cell_type": "code",
   "execution_count": 4,
   "metadata": {},
   "outputs": [
    {
     "data": {
      "text/html": [
       "<div>\n",
       "<style scoped>\n",
       "    .dataframe tbody tr th:only-of-type {\n",
       "        vertical-align: middle;\n",
       "    }\n",
       "\n",
       "    .dataframe tbody tr th {\n",
       "        vertical-align: top;\n",
       "    }\n",
       "\n",
       "    .dataframe thead th {\n",
       "        text-align: right;\n",
       "    }\n",
       "</style>\n",
       "<table border=\"1\" class=\"dataframe\">\n",
       "  <thead>\n",
       "    <tr style=\"text-align: right;\">\n",
       "      <th></th>\n",
       "      <th># Dashboard</th>\n",
       "      <th>ID</th>\n",
       "      <th>Account</th>\n",
       "      <th>Last name</th>\n",
       "      <th>Middle name</th>\n",
       "      <th>First name</th>\n",
       "      <th>Position</th>\n",
       "      <th>Email</th>\n",
       "      <th>Date completed</th>\n",
       "      <th>Completion time</th>\n",
       "      <th>...</th>\n",
       "      <th>Intrapersonal Skills</th>\n",
       "      <th>Accountability</th>\n",
       "      <th>Change Management</th>\n",
       "      <th>Drive</th>\n",
       "      <th>Positive Mindset_manssa</th>\n",
       "      <th>Steady Effort</th>\n",
       "      <th>Key Skills</th>\n",
       "      <th>Necessary Skills</th>\n",
       "      <th>Beneficial Skills</th>\n",
       "      <th>LIS</th>\n",
       "    </tr>\n",
       "  </thead>\n",
       "  <tbody>\n",
       "    <tr>\n",
       "      <th>0</th>\n",
       "      <td>D12: Corporate Communications and Training</td>\n",
       "      <td>LDP0394</td>\n",
       "      <td>LDP100</td>\n",
       "      <td>Finchum</td>\n",
       "      <td>NaN</td>\n",
       "      <td>Donald</td>\n",
       "      <td>CORPORATE CULTURE &amp; TRAINING MANAGER</td>\n",
       "      <td>d.finchum31@anondomain.com</td>\n",
       "      <td>NaN</td>\n",
       "      <td>NaN</td>\n",
       "      <td>...</td>\n",
       "      <td>88</td>\n",
       "      <td>93</td>\n",
       "      <td>83</td>\n",
       "      <td>100</td>\n",
       "      <td>79</td>\n",
       "      <td>86</td>\n",
       "      <td>95.25</td>\n",
       "      <td>92.20</td>\n",
       "      <td>95.2</td>\n",
       "      <td>90.5050</td>\n",
       "    </tr>\n",
       "    <tr>\n",
       "      <th>1</th>\n",
       "      <td>D4: Logistics and Site Management</td>\n",
       "      <td>LDP4315</td>\n",
       "      <td>LDP100</td>\n",
       "      <td>Clark</td>\n",
       "      <td>NaN</td>\n",
       "      <td>Susan</td>\n",
       "      <td>SITE MANAGER - CIVIL</td>\n",
       "      <td>s.clark59@anondomain.com</td>\n",
       "      <td>2025-01-14</td>\n",
       "      <td>01:08:55</td>\n",
       "      <td>...</td>\n",
       "      <td>59</td>\n",
       "      <td>68</td>\n",
       "      <td>50</td>\n",
       "      <td>73</td>\n",
       "      <td>35</td>\n",
       "      <td>73</td>\n",
       "      <td>80.00</td>\n",
       "      <td>77.00</td>\n",
       "      <td>61.6</td>\n",
       "      <td>73.3140</td>\n",
       "    </tr>\n",
       "    <tr>\n",
       "      <th>2</th>\n",
       "      <td>D6: Procurement and Supply Chain Management</td>\n",
       "      <td>LDP0127</td>\n",
       "      <td>LDP100</td>\n",
       "      <td>Mendoza</td>\n",
       "      <td>NaN</td>\n",
       "      <td>John</td>\n",
       "      <td>PROCUREMENT MANAGER-OFFICE SUPPLY</td>\n",
       "      <td>j.mendoza41@anondomain.com</td>\n",
       "      <td>2025-01-10</td>\n",
       "      <td>01:17:10</td>\n",
       "      <td>...</td>\n",
       "      <td>77</td>\n",
       "      <td>68</td>\n",
       "      <td>80</td>\n",
       "      <td>93</td>\n",
       "      <td>86</td>\n",
       "      <td>64</td>\n",
       "      <td>78.00</td>\n",
       "      <td>81.50</td>\n",
       "      <td>81.0</td>\n",
       "      <td>76.2050</td>\n",
       "    </tr>\n",
       "    <tr>\n",
       "      <th>3</th>\n",
       "      <td>D5: Engineering and Technical Management</td>\n",
       "      <td>LDP4802</td>\n",
       "      <td>LDP100</td>\n",
       "      <td>Spegal</td>\n",
       "      <td>NaN</td>\n",
       "      <td>Juan</td>\n",
       "      <td>COMMISSIONING MANAGER</td>\n",
       "      <td>j.spegal48@anondomain.com</td>\n",
       "      <td>2025-01-13</td>\n",
       "      <td>02:24:32</td>\n",
       "      <td>...</td>\n",
       "      <td>77</td>\n",
       "      <td>67</td>\n",
       "      <td>64</td>\n",
       "      <td>97</td>\n",
       "      <td>81</td>\n",
       "      <td>71</td>\n",
       "      <td>81.20</td>\n",
       "      <td>74.50</td>\n",
       "      <td>82.4</td>\n",
       "      <td>75.4210</td>\n",
       "    </tr>\n",
       "    <tr>\n",
       "      <th>4</th>\n",
       "      <td>D13: Administrative and Support Services</td>\n",
       "      <td>LDP1313</td>\n",
       "      <td>LDP100</td>\n",
       "      <td>Kingsley</td>\n",
       "      <td>NaN</td>\n",
       "      <td>Ruth</td>\n",
       "      <td>SUPPORT SERVICES MANAGER</td>\n",
       "      <td>r.kingsley18@anondomain.com</td>\n",
       "      <td>2025-01-12</td>\n",
       "      <td>01:37:15</td>\n",
       "      <td>...</td>\n",
       "      <td>84</td>\n",
       "      <td>77</td>\n",
       "      <td>86</td>\n",
       "      <td>100</td>\n",
       "      <td>83</td>\n",
       "      <td>76</td>\n",
       "      <td>89.50</td>\n",
       "      <td>79.60</td>\n",
       "      <td>89.2</td>\n",
       "      <td>81.1940</td>\n",
       "    </tr>\n",
       "    <tr>\n",
       "      <th>...</th>\n",
       "      <td>...</td>\n",
       "      <td>...</td>\n",
       "      <td>...</td>\n",
       "      <td>...</td>\n",
       "      <td>...</td>\n",
       "      <td>...</td>\n",
       "      <td>...</td>\n",
       "      <td>...</td>\n",
       "      <td>...</td>\n",
       "      <td>...</td>\n",
       "      <td>...</td>\n",
       "      <td>...</td>\n",
       "      <td>...</td>\n",
       "      <td>...</td>\n",
       "      <td>...</td>\n",
       "      <td>...</td>\n",
       "      <td>...</td>\n",
       "      <td>...</td>\n",
       "      <td>...</td>\n",
       "      <td>...</td>\n",
       "      <td>...</td>\n",
       "    </tr>\n",
       "    <tr>\n",
       "      <th>76</th>\n",
       "      <td>D3: Senior Management - Operations and Logistics</td>\n",
       "      <td>LDP3000</td>\n",
       "      <td>LDP 100</td>\n",
       "      <td>Woll</td>\n",
       "      <td>NaN</td>\n",
       "      <td>Deborah</td>\n",
       "      <td>PROJECT MANAGER-CIVIL</td>\n",
       "      <td>d.woll16@anondomain.com</td>\n",
       "      <td>2025-03-25</td>\n",
       "      <td>00:04:48</td>\n",
       "      <td>...</td>\n",
       "      <td>84</td>\n",
       "      <td>80</td>\n",
       "      <td>97</td>\n",
       "      <td>73</td>\n",
       "      <td>93</td>\n",
       "      <td>66</td>\n",
       "      <td>71.00</td>\n",
       "      <td>58.25</td>\n",
       "      <td>70.0</td>\n",
       "      <td>57.0325</td>\n",
       "    </tr>\n",
       "    <tr>\n",
       "      <th>77</th>\n",
       "      <td>D3: Senior Management - Operations and Logistics</td>\n",
       "      <td>LDP3019</td>\n",
       "      <td>LDP 100</td>\n",
       "      <td>Shirk</td>\n",
       "      <td>NaN</td>\n",
       "      <td>Robert</td>\n",
       "      <td>PROJECT MANAGER-INDUSTRIAL</td>\n",
       "      <td>r.shirk38@anondomain.com</td>\n",
       "      <td>2025-03-26</td>\n",
       "      <td>01:34:31</td>\n",
       "      <td>...</td>\n",
       "      <td>66</td>\n",
       "      <td>83</td>\n",
       "      <td>73</td>\n",
       "      <td>83</td>\n",
       "      <td>51</td>\n",
       "      <td>54</td>\n",
       "      <td>82.00</td>\n",
       "      <td>81.50</td>\n",
       "      <td>84.8</td>\n",
       "      <td>76.5470</td>\n",
       "    </tr>\n",
       "    <tr>\n",
       "      <th>78</th>\n",
       "      <td>D4: Logistics and Site Management</td>\n",
       "      <td>LDP4011</td>\n",
       "      <td>LDP 100</td>\n",
       "      <td>Gomez</td>\n",
       "      <td>NaN</td>\n",
       "      <td>Monique</td>\n",
       "      <td>SITE MANAGER-ELECTRICAL</td>\n",
       "      <td>m.gomez13@anondomain.com</td>\n",
       "      <td>2025-03-26</td>\n",
       "      <td>00:36:47</td>\n",
       "      <td>...</td>\n",
       "      <td>87</td>\n",
       "      <td>72</td>\n",
       "      <td>83</td>\n",
       "      <td>100</td>\n",
       "      <td>91</td>\n",
       "      <td>89</td>\n",
       "      <td>90.60</td>\n",
       "      <td>93.00</td>\n",
       "      <td>90.6</td>\n",
       "      <td>85.6640</td>\n",
       "    </tr>\n",
       "    <tr>\n",
       "      <th>79</th>\n",
       "      <td>D5: Engineering and Technical Management</td>\n",
       "      <td>LDP5422</td>\n",
       "      <td>LDP 100</td>\n",
       "      <td>Trowell</td>\n",
       "      <td>NaN</td>\n",
       "      <td>Michael</td>\n",
       "      <td>CONSTRUCTION MANAGER-MEP</td>\n",
       "      <td>m.trowell14@anondomain.com</td>\n",
       "      <td>2025-03-27</td>\n",
       "      <td>01:11:50</td>\n",
       "      <td>...</td>\n",
       "      <td>79</td>\n",
       "      <td>73</td>\n",
       "      <td>71</td>\n",
       "      <td>93</td>\n",
       "      <td>70</td>\n",
       "      <td>91</td>\n",
       "      <td>87.20</td>\n",
       "      <td>81.50</td>\n",
       "      <td>84.0</td>\n",
       "      <td>80.4350</td>\n",
       "    </tr>\n",
       "    <tr>\n",
       "      <th>80</th>\n",
       "      <td>D13: Administrative and Support Services</td>\n",
       "      <td>LDP1355</td>\n",
       "      <td>LDP 100</td>\n",
       "      <td>Jong</td>\n",
       "      <td>NaN</td>\n",
       "      <td>James</td>\n",
       "      <td>TRAVEL &amp; TICKETING MANAGER</td>\n",
       "      <td>j.jong73@anondomain.com</td>\n",
       "      <td>2025-03-27</td>\n",
       "      <td>01:00:16</td>\n",
       "      <td>...</td>\n",
       "      <td>77</td>\n",
       "      <td>62</td>\n",
       "      <td>97</td>\n",
       "      <td>93</td>\n",
       "      <td>83</td>\n",
       "      <td>60</td>\n",
       "      <td>84.00</td>\n",
       "      <td>77.40</td>\n",
       "      <td>77.8</td>\n",
       "      <td>74.4560</td>\n",
       "    </tr>\n",
       "  </tbody>\n",
       "</table>\n",
       "<p>81 rows × 90 columns</p>\n",
       "</div>"
      ],
      "text/plain": [
       "                                         # Dashboard       ID  Account  \\\n",
       "0         D12: Corporate Communications and Training  LDP0394   LDP100   \n",
       "1                  D4: Logistics and Site Management  LDP4315   LDP100   \n",
       "2        D6: Procurement and Supply Chain Management  LDP0127   LDP100   \n",
       "3           D5: Engineering and Technical Management  LDP4802   LDP100   \n",
       "4           D13: Administrative and Support Services  LDP1313   LDP100   \n",
       "..                                               ...      ...      ...   \n",
       "76  D3: Senior Management - Operations and Logistics  LDP3000  LDP 100   \n",
       "77  D3: Senior Management - Operations and Logistics  LDP3019  LDP 100   \n",
       "78                 D4: Logistics and Site Management  LDP4011  LDP 100   \n",
       "79          D5: Engineering and Technical Management  LDP5422  LDP 100   \n",
       "80          D13: Administrative and Support Services  LDP1355  LDP 100   \n",
       "\n",
       "   Last name  Middle name First name                              Position  \\\n",
       "0    Finchum          NaN     Donald  CORPORATE CULTURE & TRAINING MANAGER   \n",
       "1      Clark          NaN      Susan                  SITE MANAGER - CIVIL   \n",
       "2    Mendoza          NaN       John     PROCUREMENT MANAGER-OFFICE SUPPLY   \n",
       "3     Spegal          NaN       Juan                 COMMISSIONING MANAGER   \n",
       "4   Kingsley          NaN       Ruth              SUPPORT SERVICES MANAGER   \n",
       "..       ...          ...        ...                                   ...   \n",
       "76      Woll          NaN    Deborah                 PROJECT MANAGER-CIVIL   \n",
       "77     Shirk          NaN     Robert            PROJECT MANAGER-INDUSTRIAL   \n",
       "78     Gomez          NaN    Monique               SITE MANAGER-ELECTRICAL   \n",
       "79   Trowell          NaN    Michael              CONSTRUCTION MANAGER-MEP   \n",
       "80      Jong          NaN      James            TRAVEL & TICKETING MANAGER   \n",
       "\n",
       "                          Email Date completed Completion time  ...  \\\n",
       "0    d.finchum31@anondomain.com            NaN             NaN  ...   \n",
       "1      s.clark59@anondomain.com     2025-01-14        01:08:55  ...   \n",
       "2    j.mendoza41@anondomain.com     2025-01-10        01:17:10  ...   \n",
       "3     j.spegal48@anondomain.com     2025-01-13        02:24:32  ...   \n",
       "4   r.kingsley18@anondomain.com     2025-01-12        01:37:15  ...   \n",
       "..                          ...            ...             ...  ...   \n",
       "76      d.woll16@anondomain.com     2025-03-25        00:04:48  ...   \n",
       "77     r.shirk38@anondomain.com     2025-03-26        01:34:31  ...   \n",
       "78     m.gomez13@anondomain.com     2025-03-26        00:36:47  ...   \n",
       "79   m.trowell14@anondomain.com     2025-03-27        01:11:50  ...   \n",
       "80      j.jong73@anondomain.com     2025-03-27        01:00:16  ...   \n",
       "\n",
       "    Intrapersonal Skills  Accountability  Change Management  Drive  \\\n",
       "0                     88              93                 83    100   \n",
       "1                     59              68                 50     73   \n",
       "2                     77              68                 80     93   \n",
       "3                     77              67                 64     97   \n",
       "4                     84              77                 86    100   \n",
       "..                   ...             ...                ...    ...   \n",
       "76                    84              80                 97     73   \n",
       "77                    66              83                 73     83   \n",
       "78                    87              72                 83    100   \n",
       "79                    79              73                 71     93   \n",
       "80                    77              62                 97     93   \n",
       "\n",
       "    Positive Mindset_manssa  Steady Effort  Key Skills  Necessary Skills  \\\n",
       "0                        79             86       95.25             92.20   \n",
       "1                        35             73       80.00             77.00   \n",
       "2                        86             64       78.00             81.50   \n",
       "3                        81             71       81.20             74.50   \n",
       "4                        83             76       89.50             79.60   \n",
       "..                      ...            ...         ...               ...   \n",
       "76                       93             66       71.00             58.25   \n",
       "77                       51             54       82.00             81.50   \n",
       "78                       91             89       90.60             93.00   \n",
       "79                       70             91       87.20             81.50   \n",
       "80                       83             60       84.00             77.40   \n",
       "\n",
       "    Beneficial Skills      LIS  \n",
       "0                95.2  90.5050  \n",
       "1                61.6  73.3140  \n",
       "2                81.0  76.2050  \n",
       "3                82.4  75.4210  \n",
       "4                89.2  81.1940  \n",
       "..                ...      ...  \n",
       "76               70.0  57.0325  \n",
       "77               84.8  76.5470  \n",
       "78               90.6  85.6640  \n",
       "79               84.0  80.4350  \n",
       "80               77.8  74.4560  \n",
       "\n",
       "[81 rows x 90 columns]"
      ]
     },
     "execution_count": 4,
     "metadata": {},
     "output_type": "execute_result"
    }
   ],
   "source": [
    "import pandas as pd\n",
    "\n",
    "df = pd.read_csv('../LDP_summary_anonymized.csv')\n",
    "\n",
    "df"
   ]
  },
  {
   "cell_type": "code",
   "execution_count": 5,
   "metadata": {},
   "outputs": [
    {
     "data": {
      "text/plain": [
       "Index(['# Dashboard', 'ID', 'Account', 'Last name', 'Middle name',\n",
       "       'First name', 'Position', 'Email', 'Date completed', 'Completion time',\n",
       "       'Overall Results',\n",
       "       'Emotional Identification, Perception, and Expression',\n",
       "       'Emotional Facilitation of Thought', 'Emotional Understanding',\n",
       "       'Emotional Management', 'Emotional Self-awareness',\n",
       "       'Awareness of Strengths and Limitations', 'Comfort with Emotions',\n",
       "       'Recognition of Other's Emotions', 'Rumination', 'Problem-Solving',\n",
       "       'Positive Mindset', 'Emotional Reflection', 'Emotional Integration',\n",
       "       'Conflict-Resolution Knowledge', 'Empathy', 'Social Insight',\n",
       "       'Self-Control', 'Resilience/Hardiness', 'Coping Skills',\n",
       "       'Self-Motivation', 'Striving', 'Emotional Selectivity',\n",
       "       'Adaptable Social Skills', 'Conflict-Resolution Behavior',\n",
       "       'Account_manssa', 'Last name_manssa', 'Middle name_manssa',\n",
       "       'First name_manssa', 'Date completed_manssa', 'Completion time_manssa',\n",
       "       'Typology 1', 'Typology 2', 'Impression Management', 'Overall Score',\n",
       "       'Planning, Organizing, & Controlling', 'Goal Setting',\n",
       "       'Information Gathering & Analysis', 'Problem-Solving_manssa',\n",
       "       'Organization Skills', 'Proactive Approach',\n",
       "       'Monitoring Employee Performance', 'Measuring & Evaluating Results',\n",
       "       'Project Management', 'Staffing & HR Functions', 'Recruitment & Hiring',\n",
       "       'Building Effective Teams', 'Training & Onboarding',\n",
       "       'Succession Planning', 'Leading', 'Coaching & Mentoring',\n",
       "       'Rewarding Performance', 'Fairness', 'Supportiveness',\n",
       "       'Managing Diversity', 'Managerial Courage', 'Charisma',\n",
       "       'Business Skills', 'Innovative Mindset', 'Calculated Risk-Taking',\n",
       "       'Negotiating Ability', 'Customer Orientation', 'Integrity & Ethics',\n",
       "       'Soft Skills & Teamwork', 'Communication Skills', 'Listening Skills',\n",
       "       'Social Insight_manssa', 'Conflict Management', 'Patience',\n",
       "       'Approachability', 'Intrapersonal Skills', 'Accountability',\n",
       "       'Change Management', 'Drive', 'Positive Mindset_manssa',\n",
       "       'Steady Effort', 'Key Skills', 'Necessary Skills', 'Beneficial Skills',\n",
       "       'LIS'],\n",
       "      dtype='object')"
      ]
     },
     "execution_count": 5,
     "metadata": {},
     "output_type": "execute_result"
    }
   ],
   "source": [
    "df.columns"
   ]
  },
  {
   "cell_type": "code",
   "execution_count": 19,
   "metadata": {},
   "outputs": [
    {
     "data": {
      "text/plain": [
       "{'dashboard': 'D12: Corporate Communications and Training',\n",
       " 'skill_scores': {'Critical Skills': {'Communication Skills': 75.6,\n",
       "   'Training & Onboarding': 84.8,\n",
       "   'Coaching & Mentoring': 83.8,\n",
       "   'Goal Setting': 90.4},\n",
       "  'Necessary': {'Organization Skills': 79.0,\n",
       "   'Measuring & Evaluating Results': 90.0,\n",
       "   'Conflict Management': 71.6,\n",
       "   'Listening Skills': 65.2,\n",
       "   'Building Effective Teams': 84.4},\n",
       "  'Beneficial Skills': {'Social Insight': 100.0,\n",
       "   'Supportiveness': 84.0,\n",
       "   'Charisma': 84.8,\n",
       "   'Emotional Self-awareness': 59.6,\n",
       "   'Change Management': 74.4}}}"
      ]
     },
     "execution_count": 19,
     "metadata": {},
     "output_type": "execute_result"
    }
   ],
   "source": [
    "import numpy as np\n",
    "import pandas as pd\n",
    "import plotly.graph_objects as go\n",
    "from plotly.subplots import make_subplots\n",
    "\n",
    "def radar_chart_plotly(dashboard, df, skills_mapping):\n",
    "    ''' \n",
    "    LIS Stands for Leadership Index Score which is a weighted score of critical skills necessary skills and beneficial skills to have a standardized metric to compare all individuals.\n",
    "    EQ assesses Emotional Intelligence which is one of the most important skills that all leaders are assessed in.\n",
    "    '''\n",
    "    mapping = skills_mapping.get(dashboard, {})\n",
    "    categories = ['Critical Skills', 'Necessary', 'Beneficial Skills']\n",
    "\n",
    "    avg_scores = {}\n",
    "    summary_stats = {\"dashboard\": dashboard, \"skill_scores\": {}}\n",
    "\n",
    "    fig = make_subplots(\n",
    "        rows=1, cols=len(categories),\n",
    "        specs=[[{'type': 'polar'} for _ in categories]],\n",
    "        subplot_titles=[f\"{dashboard} - {cat}\" for cat in categories]\n",
    "    )\n",
    "\n",
    "    all_scores = []\n",
    "\n",
    "    for i, cat in enumerate(categories):\n",
    "        skills = mapping.get(cat, [])\n",
    "        if not skills:\n",
    "            continue\n",
    "\n",
    "        skill_avg_scores = {\n",
    "            skill: df.loc[df['# Dashboard'] == dashboard, skill].mean()\n",
    "            for skill in skills if skill in df.columns\n",
    "        }\n",
    "        avg_scores[cat] = list(skill_avg_scores.values())\n",
    "\n",
    "        # Store per-skill averages in the summary\n",
    "        summary_stats[\"skill_scores\"][cat] = skill_avg_scores\n",
    "\n",
    "        scores = np.array(list(skill_avg_scores.values()))\n",
    "        all_scores.extend(scores)\n",
    "\n",
    "        # Close the loop for radar visualization\n",
    "        scores_closed = np.concatenate((scores, [scores[0]]))\n",
    "        skills_closed = list(skill_avg_scores.keys()) + [list(skill_avg_scores.keys())[0]]\n",
    "\n",
    "        fig.add_trace(\n",
    "            go.Scatterpolar(\n",
    "                r=scores_closed,\n",
    "                theta=skills_closed,\n",
    "                fill='toself',\n",
    "                mode='markers+lines',\n",
    "                name=cat\n",
    "            ),\n",
    "            row=1, col=i+1\n",
    "        )\n",
    "\n",
    "        fig.update_polars(\n",
    "            dict(\n",
    "                radialaxis=dict(visible=True, range=[0, max(scores_closed) * 1.1]),\n",
    "                angularaxis=dict(tickfont=dict(size=10))\n",
    "            ),\n",
    "            row=1, col=i+1\n",
    "        )\n",
    "\n",
    "\n",
    "    fig.update_layout(\n",
    "        title_text=f\"Radar Chart of Average Skill Scores for Dashboard {dashboard}\",\n",
    "        showlegend=False,\n",
    "        width=350 * len(categories),\n",
    "        height=500,\n",
    "        margin=dict(t=100, b=50, l=50, r=50)\n",
    "    )\n",
    "\n",
    "    return fig, summary_stats\n",
    "\n",
    "\n",
    "a, b = radar_chart_plotly(\"D12: Corporate Communications and Training\", df, skills_mapping)\n",
    "b\n"
   ]
  },
  {
   "cell_type": "code",
   "execution_count": 20,
   "metadata": {},
   "outputs": [
    {
     "data": {
      "application/vnd.plotly.v1+json": {
       "config": {
        "plotlyServerURL": "https://plot.ly"
       },
       "data": [
        {
         "fill": "toself",
         "mode": "markers+lines",
         "name": "Critical Skills",
         "r": {
          "bdata": "ZmZmZmbmUkAzMzMzMzNVQDMzMzMz81RAmpmZmZmZVkBmZmZmZuZSQA==",
          "dtype": "f8"
         },
         "subplot": "polar",
         "theta": [
          "Communication Skills",
          "Training & Onboarding",
          "Coaching & Mentoring",
          "Goal Setting",
          "Communication Skills"
         ],
         "type": "scatterpolar"
        },
        {
         "fill": "toself",
         "mode": "markers+lines",
         "name": "Necessary",
         "r": {
          "bdata": "AAAAAADAU0AAAAAAAIBWQGZmZmZm5lFAzczMzMxMUECamZmZmRlVQAAAAAAAwFNA",
          "dtype": "f8"
         },
         "subplot": "polar2",
         "theta": [
          "Organization Skills",
          "Measuring & Evaluating Results",
          "Conflict Management",
          "Listening Skills",
          "Building Effective Teams",
          "Organization Skills"
         ],
         "type": "scatterpolar"
        },
        {
         "fill": "toself",
         "mode": "markers+lines",
         "name": "Beneficial Skills",
         "r": {
          "bdata": "AAAAAAAAWUAAAAAAAABVQDMzMzMzM1VAzczMzMzMTUCamZmZmZlSQAAAAAAAAFlA",
          "dtype": "f8"
         },
         "subplot": "polar3",
         "theta": [
          "Social Insight",
          "Supportiveness",
          "Charisma",
          "Emotional Self-awareness",
          "Change Management",
          "Social Insight"
         ],
         "type": "scatterpolar"
        }
       ],
       "layout": {
        "annotations": [
         {
          "font": {
           "size": 16
          },
          "showarrow": false,
          "text": "D12: Corporate Communications and Training - Critical Skills",
          "x": 0.14444444444444446,
          "xanchor": "center",
          "xref": "paper",
          "y": 1,
          "yanchor": "bottom",
          "yref": "paper"
         },
         {
          "font": {
           "size": 16
          },
          "showarrow": false,
          "text": "D12: Corporate Communications and Training - Necessary",
          "x": 0.5,
          "xanchor": "center",
          "xref": "paper",
          "y": 1,
          "yanchor": "bottom",
          "yref": "paper"
         },
         {
          "font": {
           "size": 16
          },
          "showarrow": false,
          "text": "D12: Corporate Communications and Training - Beneficial Skills",
          "x": 0.8555555555555556,
          "xanchor": "center",
          "xref": "paper",
          "y": 1,
          "yanchor": "bottom",
          "yref": "paper"
         }
        ],
        "height": 500,
        "margin": {
         "b": 50,
         "l": 50,
         "r": 50,
         "t": 100
        },
        "polar": {
         "angularaxis": {
          "tickfont": {
           "size": 10
          }
         },
         "domain": {
          "x": [
           0,
           0.2888888888888889
          ],
          "y": [
           0,
           1
          ]
         },
         "radialaxis": {
          "range": [
           0,
           99.44000000000001
          ],
          "visible": true
         }
        },
        "polar2": {
         "angularaxis": {
          "tickfont": {
           "size": 10
          }
         },
         "domain": {
          "x": [
           0.35555555555555557,
           0.6444444444444445
          ],
          "y": [
           0,
           1
          ]
         },
         "radialaxis": {
          "range": [
           0,
           99.00000000000001
          ],
          "visible": true
         }
        },
        "polar3": {
         "angularaxis": {
          "tickfont": {
           "size": 10
          }
         },
         "domain": {
          "x": [
           0.7111111111111111,
           1
          ],
          "y": [
           0,
           1
          ]
         },
         "radialaxis": {
          "range": [
           0,
           110.00000000000001
          ],
          "visible": true
         }
        },
        "showlegend": false,
        "template": {
         "data": {
          "candlestick": [
           {
            "decreasing": {
             "line": {
              "color": "#000033"
             }
            },
            "increasing": {
             "line": {
              "color": "#000032"
             }
            },
            "type": "candlestick"
           }
          ],
          "contour": [
           {
            "colorscale": [
             [
              0,
              "#000011"
             ],
             [
              0.1111111111111111,
              "#000012"
             ],
             [
              0.2222222222222222,
              "#000013"
             ],
             [
              0.3333333333333333,
              "#000014"
             ],
             [
              0.4444444444444444,
              "#000015"
             ],
             [
              0.5555555555555556,
              "#000016"
             ],
             [
              0.6666666666666666,
              "#000017"
             ],
             [
              0.7777777777777778,
              "#000018"
             ],
             [
              0.8888888888888888,
              "#000019"
             ],
             [
              1,
              "#000020"
             ]
            ],
            "type": "contour"
           }
          ],
          "contourcarpet": [
           {
            "colorscale": [
             [
              0,
              "#000011"
             ],
             [
              0.1111111111111111,
              "#000012"
             ],
             [
              0.2222222222222222,
              "#000013"
             ],
             [
              0.3333333333333333,
              "#000014"
             ],
             [
              0.4444444444444444,
              "#000015"
             ],
             [
              0.5555555555555556,
              "#000016"
             ],
             [
              0.6666666666666666,
              "#000017"
             ],
             [
              0.7777777777777778,
              "#000018"
             ],
             [
              0.8888888888888888,
              "#000019"
             ],
             [
              1,
              "#000020"
             ]
            ],
            "type": "contourcarpet"
           }
          ],
          "heatmap": [
           {
            "colorscale": [
             [
              0,
              "#000011"
             ],
             [
              0.1111111111111111,
              "#000012"
             ],
             [
              0.2222222222222222,
              "#000013"
             ],
             [
              0.3333333333333333,
              "#000014"
             ],
             [
              0.4444444444444444,
              "#000015"
             ],
             [
              0.5555555555555556,
              "#000016"
             ],
             [
              0.6666666666666666,
              "#000017"
             ],
             [
              0.7777777777777778,
              "#000018"
             ],
             [
              0.8888888888888888,
              "#000019"
             ],
             [
              1,
              "#000020"
             ]
            ],
            "type": "heatmap"
           }
          ],
          "histogram2d": [
           {
            "colorscale": [
             [
              0,
              "#000011"
             ],
             [
              0.1111111111111111,
              "#000012"
             ],
             [
              0.2222222222222222,
              "#000013"
             ],
             [
              0.3333333333333333,
              "#000014"
             ],
             [
              0.4444444444444444,
              "#000015"
             ],
             [
              0.5555555555555556,
              "#000016"
             ],
             [
              0.6666666666666666,
              "#000017"
             ],
             [
              0.7777777777777778,
              "#000018"
             ],
             [
              0.8888888888888888,
              "#000019"
             ],
             [
              1,
              "#000020"
             ]
            ],
            "type": "histogram2d"
           }
          ],
          "icicle": [
           {
            "textfont": {
             "color": "white"
            },
            "type": "icicle"
           }
          ],
          "sankey": [
           {
            "textfont": {
             "color": "#000036"
            },
            "type": "sankey"
           }
          ],
          "scatter": [
           {
            "marker": {
             "line": {
              "width": 0
             }
            },
            "type": "scatter"
           }
          ],
          "table": [
           {
            "cells": {
             "fill": {
              "color": "#000038"
             },
             "font": {
              "color": "#000037"
             },
             "line": {
              "color": "#000039"
             }
            },
            "header": {
             "fill": {
              "color": "#000040"
             },
             "font": {
              "color": "#000036"
             },
             "line": {
              "color": "#000039"
             }
            },
            "type": "table"
           }
          ],
          "waterfall": [
           {
            "connector": {
             "line": {
              "color": "#000036",
              "width": 2
             }
            },
            "decreasing": {
             "marker": {
              "color": "#000033"
             }
            },
            "increasing": {
             "marker": {
              "color": "#000032"
             }
            },
            "totals": {
             "marker": {
              "color": "#000034"
             }
            },
            "type": "waterfall"
           }
          ]
         },
         "layout": {
          "coloraxis": {
           "colorscale": [
            [
             0,
             "#000011"
            ],
            [
             0.1111111111111111,
             "#000012"
            ],
            [
             0.2222222222222222,
             "#000013"
            ],
            [
             0.3333333333333333,
             "#000014"
            ],
            [
             0.4444444444444444,
             "#000015"
            ],
            [
             0.5555555555555556,
             "#000016"
            ],
            [
             0.6666666666666666,
             "#000017"
            ],
            [
             0.7777777777777778,
             "#000018"
            ],
            [
             0.8888888888888888,
             "#000019"
            ],
            [
             1,
             "#000020"
            ]
           ]
          },
          "colorscale": {
           "diverging": [
            [
             0,
             "#000021"
            ],
            [
             0.1,
             "#000022"
            ],
            [
             0.2,
             "#000023"
            ],
            [
             0.3,
             "#000024"
            ],
            [
             0.4,
             "#000025"
            ],
            [
             0.5,
             "#000026"
            ],
            [
             0.6,
             "#000027"
            ],
            [
             0.7,
             "#000028"
            ],
            [
             0.8,
             "#000029"
            ],
            [
             0.9,
             "#000030"
            ],
            [
             1,
             "#000031"
            ]
           ],
           "sequential": [
            [
             0,
             "#000011"
            ],
            [
             0.1111111111111111,
             "#000012"
            ],
            [
             0.2222222222222222,
             "#000013"
            ],
            [
             0.3333333333333333,
             "#000014"
            ],
            [
             0.4444444444444444,
             "#000015"
            ],
            [
             0.5555555555555556,
             "#000016"
            ],
            [
             0.6666666666666666,
             "#000017"
            ],
            [
             0.7777777777777778,
             "#000018"
            ],
            [
             0.8888888888888888,
             "#000019"
            ],
            [
             1,
             "#000020"
            ]
           ],
           "sequentialminus": [
            [
             0,
             "#000011"
            ],
            [
             0.1111111111111111,
             "#000012"
            ],
            [
             0.2222222222222222,
             "#000013"
            ],
            [
             0.3333333333333333,
             "#000014"
            ],
            [
             0.4444444444444444,
             "#000015"
            ],
            [
             0.5555555555555556,
             "#000016"
            ],
            [
             0.6666666666666666,
             "#000017"
            ],
            [
             0.7777777777777778,
             "#000018"
            ],
            [
             0.8888888888888888,
             "#000019"
            ],
            [
             1,
             "#000020"
            ]
           ]
          },
          "colorway": [
           "#000001",
           "#000002",
           "#000003",
           "#000004",
           "#000005",
           "#000006",
           "#000007",
           "#000008",
           "#000009",
           "#000010"
          ]
         }
        },
        "title": {
         "text": "Radar Chart of Average Skill Scores for Dashboard D12: Corporate Communications and Training"
        },
        "width": 1050
       }
      }
     },
     "metadata": {},
     "output_type": "display_data"
    }
   ],
   "source": [
    "a"
   ]
  },
  {
   "cell_type": "code",
   "execution_count": 8,
   "metadata": {},
   "outputs": [
    {
     "name": "stdout",
     "output_type": "stream",
     "text": [
      "Final prompt passed to LLM:\n",
      " You are a data analyst helping decision-makers understand data trends.\n",
      "\n",
      "Step 1: Analyze the PlotCode and DataFrame to understand what the chart is visualizing. Do NOT include or describe the code itself.\n",
      "\n",
      "Step 2: Return your output in **Markdown** using the following structure:\n",
      "\n",
      "**Chart Description**\n",
      "\n",
      "A brief paragraph that explains what the chart is visualizing and why it's relevant.\n",
      "\n",
      "Important Guidelines:\n",
      "- If a KPI, variable, or concept is not clearly defined in the DataFrame or PlotCode, do NOT guess its meaning. It may represent proprietary or internal data.\n",
      "- Never fabricate interpretations — only base your insights on what is explicitly observable from the data and plot logic.\n",
      "- Be clear, thoughtful, and avoid assumptions.\n",
      "\n",
      "Only return the final Markdown-formatted insight (no explanations, no code).\n",
      "\n",
      "DataFrame:\n",
      "{'meeting_standard': 68, 'exceeding_standard': 6, 'requiring_training': 7}\n",
      "\n",
      "PlotCode:\n",
      "def build_donut_chart(lis_data):\n",
      "    ''' \n",
      "    LIS Stands for Leadership Index Score which is a weighted score of critical skills necessary skills and beneficial skills to have a standardised metric to compare all individuals\n",
      "    EQ assesses Emotional Intelligence which is one of the most important skills that all leaders are assessed in.\n",
      "    '''\n",
      "    mean_lis = np.mean(lis_data)\n",
      "    std_lis = np.std(lis_data)\n",
      "    std_low = mean_lis - 1.5 * std_lis\n",
      "    std_high = mean_lis + 1.5 * std_lis\n",
      "\n",
      "    leaders_meeting = np.sum((lis_data >= std_low) & (lis_data <= std_high))\n",
      "    leaders_exceeding = np.sum(lis_data > std_high)\n",
      "    leaders_requiring_training = np.sum(lis_data < std_low)\n",
      "    \n",
      "    leaders_summary = {\n",
      "    \"meeting_standard\": np.sum((lis_data >= std_low) & (lis_data <= std_high)),\n",
      "    \"exceeding_standard\": np.sum(lis_data > std_high),\n",
      "    \"requiring_training\": np.sum(lis_data < std_low)\n",
      "    }\n",
      "\n",
      "    labels = ['Meeting Minimum Competency', 'Exceeding Expectations', 'Requiring Training']\n",
      "    values = [leaders_meeting, leaders_exceeding, leaders_requiring_training]\n",
      "    colors = ['#5c9acc', '#f4a300', '#e63946']\n",
      "\n",
      "    fig = go.Figure(data=[go.Pie(\n",
      "        labels=labels,\n",
      "        values=values,\n",
      "        hole=0.4,\n",
      "        marker=dict(colors=colors),\n",
      "        hovertemplate=\"%{label}: %{value} leaders (%{percent})\",\n",
      "        textinfo='percent+label'\n",
      "    )])\n",
      "    fig.update_layout(\n",
      "        title=\"Overall Leadership Competency Levels\",\n",
      "        margin=dict(t=50, b=50, l=50, r=50),\n",
      "        width=700,\n",
      "        height=500\n",
      "    )\n",
      "\n",
      "    fig.show()\n",
      "    return leaders_summary\n",
      "\n"
     ]
    }
   ],
   "source": [
    "from langchain_core.prompts import PromptTemplate\n",
    "\n",
    "# Define the prompt template exactly as in your get_insights_chart function\n",
    "insights_template = PromptTemplate(\n",
    "    input_variables=[\"Dataframe\", \"PlotCode\"],\n",
    "    template=\"\"\"You are a data analyst helping decision-makers understand data trends.\n",
    "\n",
    "Step 1: Analyze the PlotCode and DataFrame to understand what the chart is visualizing. Do NOT include or describe the code itself.\n",
    "\n",
    "Step 2: Return your output in **Markdown** using the following structure:\n",
    "\n",
    "**Chart Description**\n",
    "\n",
    "A brief paragraph that explains what the chart is visualizing and why it's relevant.\n",
    "\n",
    "Important Guidelines:\n",
    "- If a KPI, variable, or concept is not clearly defined in the DataFrame or PlotCode, do NOT guess its meaning. It may represent proprietary or internal data.\n",
    "- Never fabricate interpretations — only base your insights on what is explicitly observable from the data and plot logic.\n",
    "- Be clear, thoughtful, and avoid assumptions.\n",
    "\n",
    "Only return the final Markdown-formatted insight (no explanations, no code).\n",
    "\n",
    "DataFrame:\n",
    "{Dataframe}\n",
    "\n",
    "PlotCode:\n",
    "{PlotCode}\"\"\"\n",
    ")\n",
    "\n",
    "# Now format the prompt with your inputs\n",
    "formatted_prompt = insights_template.format(Dataframe=test, PlotCode=source_code)\n",
    "print(\"Final prompt passed to LLM:\\n\", formatted_prompt)\n"
   ]
  }
 ],
 "metadata": {
  "kernelspec": {
   "display_name": "mt5_env",
   "language": "python",
   "name": "python3"
  },
  "language_info": {
   "codemirror_mode": {
    "name": "ipython",
    "version": 3
   },
   "file_extension": ".py",
   "mimetype": "text/x-python",
   "name": "python",
   "nbconvert_exporter": "python",
   "pygments_lexer": "ipython3",
   "version": "3.10.14"
  }
 },
 "nbformat": 4,
 "nbformat_minor": 2
}
